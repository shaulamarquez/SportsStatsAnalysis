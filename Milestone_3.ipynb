{
 "cells": [
  {
   "cell_type": "code",
   "execution_count": 27,
   "id": "fd6e6067-b572-430a-a900-a5dcb10a7131",
   "metadata": {},
   "outputs": [],
   "source": [
    "import pandas as pd\n",
    "import matplotlib.pyplot as plt\n",
    "from pandasql import sqldf\n",
    "pysqldf = lambda q: sqldf(q, globals())\n",
    "\n",
    "import import_ipynb\n",
    "from Milestone_1 import athlete_events"
   ]
  },
  {
   "cell_type": "markdown",
   "id": "3f642c48-ec05-4616-ae24-e6d42001e4a3",
   "metadata": {},
   "source": [
    "# Dive Deeper\n",
    "\n",
    "Look deeper into the features you are investigating, consider:\n",
    "\n",
    "- Relationships/Correlation, Pearson Correlation\n",
    "- Linear Regression for future prediction(if the relationship is linear)\n",
    "- Textual Analysis for TF-IDF(Term Frequency-Inverse Document Frequency; Row-based and column-based, stop-word removal?\n",
    "\n",
    "Specify 1-2 correlations you discovered. List the fields that you found to be correlated and describe what you learned from these correlations.\n",
    "\n",
    "# Go Broader\n",
    "\n",
    "Expand the features you are investigating. Look for connections/relationships that you may have intially missed.\n",
    "\n",
    "1. What jumps out at you now?\n",
    "2. Use the descriptive stats to point you to features that you may now want to consider.\n",
    "\n",
    "What key terms did you discover in any text analysis, for whom? Any themes? If you are not analyzing text,  summarize what other things you are considering in your analysis?\n",
    "\n",
    "# New Metric\n",
    "\n",
    "Create 1 or 2 new meterics to track relationship of data you discovered. Explain why you created them.lysis?lations."
   ]
  },
  {
   "cell_type": "code",
   "execution_count": 29,
   "id": "80dc5f96-ef68-4765-9911-4b0e90f7d61e",
   "metadata": {},
   "outputs": [
    {
     "name": "stdout",
     "output_type": "stream",
     "text": [
      "              total_count  medal_count  gold_count  silver_count  bronze_count\n",
      "total_count      1.000000     0.914259    0.816552      0.800579      0.876949\n",
      "medal_count      0.914259     1.000000    0.920362      0.888292      0.893183\n",
      "gold_count       0.816552     0.920362    1.000000      0.676242      0.708602\n",
      "silver_count     0.800579     0.888292    0.676242      1.000000      0.800822\n",
      "bronze_count     0.876949     0.893183    0.708602      0.800822      1.000000\n"
     ]
    }
   ],
   "source": [
    "USA = pysqldf('''\n",
    "    SELECT\n",
    "        Year,\n",
    "        COUNT(*) AS total_count,\n",
    "        SUM(CASE\n",
    "              WHEN Medal IS NOT NULL THEN 1 ELSE 0\n",
    "            END) AS medal_count,\n",
    "        SUM(CASE\n",
    "              WHEN Medal = \"Gold\" THEN 1 ELSE 0\n",
    "            END) AS gold_count,\n",
    "        SUM(CASE\n",
    "              WHEN Medal = \"Silver\" THEN 1 ELSE 0\n",
    "            END) AS silver_count,\n",
    "        SUM(CASE\n",
    "              WHEN Medal = \"Bronze\" THEN 1 ELSE 0\n",
    "            END) AS bronze_count\n",
    "    FROM\n",
    "        athlete_events\n",
    "    WHERE\n",
    "        NOC = 'USA'\n",
    "    GROUP BY\n",
    "        Year\n",
    "    ORDER BY\n",
    "        Year\n",
    "''')\n",
    "\n",
    "# Calculate the correlation matrix\n",
    "correlation_matrix = USA[['total_count', 'medal_count', 'gold_count', 'silver_count', 'bronze_count']].corr()\n",
    "\n",
    "print(correlation_matrix)\n"
   ]
  },
  {
   "cell_type": "markdown",
   "id": "18f3eebf-9557-4398-9119-6130fb30ea32",
   "metadata": {},
   "source": [
    "# Interpretation of Each Correlation\n",
    "1. Total count and medal count (0.91):\n",
    "\n",
    "There is a strong positive correlation between the total number of USA athletes and the number of medals won. This suggests that when more athletes participate, the number of medals won tends to increase as well.\n",
    "\n",
    "2. Total count and gold count (0.82):\n",
    "\n",
    "A strong positive correlation exists between the total number of USA athletes and the number of gold medals won. More athletes likely lead to more opportunities for gold.\n",
    "\n",
    "3. Total count and silver count (0.80):\n",
    "\n",
    "This also shows a strong positive correlation between the total athlete count and silver medals, suggesting a similar pattern as for gold medals.\n",
    "\n",
    "4. Total count and bronze count (0.88):\n",
    "\n",
    "The strong positive correlation here indicates that an increase in the number of athletes has a particularly high association with the number of bronze medals won.\n",
    "\n",
    "5. Medal count and gold count (0.92):\n",
    "\n",
    "The number of medals won and the number of gold medals show a very strong positive correlation, indicating that gold medals contribute heavily to the total medal count.\n",
    "\n",
    "6. Medal count and silver count (0.89):\n",
    "\n",
    "A strong positive correlation between total medal count and silver medals suggests that silver medals also significantly contribute to the total.\n",
    "\n",
    "7. Medal count and bronze count (0.89):\n",
    "\n",
    "Similar to gold and silver, bronze medals are also strongly correlated with the overall medal count.\n",
    "\n",
    "8. Gold count and silver count (0.68):\n",
    "\n",
    "There’s a moderate positive correlation between gold and silver medals, indicating that while there's some relationship, winning gold does not strongly predict winning silver.\n",
    "\n",
    "9. Gold count and bronze count (0.71):\n",
    "\n",
    "There’s a moderate positive correlation between gold and bronze medals, showing a similar trend as with silver.\n",
    "\n",
    "10. Silver count and bronze count (0.80):\n",
    "\n",
    "A strong positive correlation between silver and bronze medals suggests that when the USA wins more silver medals, they also tend to win more bronze medals.\n",
    "\n",
    "# Summary\n",
    "\n",
    "- Overall, there is a strong relationship between the total number of athletes and the number of medals won, indicating that increasing athlete participation tends to increase medal counts.\n",
    "- All medal types (gold, silver, and bronze) contribute significantly to the total medal count, though gold has the strongest influence.\n",
    "- The moderate correlations between the different medal types suggest that while winning one type of medal increases the likelihood of winning others, it’s not a perfect predictor.\n",
    "\n",
    "This matrix reveals that higher athlete participation tends to positively impact the USA’s success in winning medals across all types."
   ]
  },
  {
   "cell_type": "code",
   "execution_count": null,
   "id": "be4c4477-12cb-429e-9d45-8b3d2ebc0e71",
   "metadata": {},
   "outputs": [],
   "source": []
  }
 ],
 "metadata": {
  "kernelspec": {
   "display_name": "Python 3 (ipykernel)",
   "language": "python",
   "name": "python3"
  },
  "language_info": {
   "codemirror_mode": {
    "name": "ipython",
    "version": 3
   },
   "file_extension": ".py",
   "mimetype": "text/x-python",
   "name": "python",
   "nbconvert_exporter": "python",
   "pygments_lexer": "ipython3",
   "version": "3.11.5"
  }
 },
 "nbformat": 4,
 "nbformat_minor": 5
}
